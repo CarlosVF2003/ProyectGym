{
 "cells": [
  {
   "cell_type": "code",
   "execution_count": 1,
   "metadata": {},
   "outputs": [
    {
     "name": "stderr",
     "output_type": "stream",
     "text": [
      "2024-03-14 15:55:54.555 \n",
      "  \u001b[33m\u001b[1mWarning:\u001b[0m to view this Streamlit app on a browser, run it with the following\n",
      "  command:\n",
      "\n",
      "    streamlit run /home/codespace/.local/lib/python3.10/site-packages/ipykernel_launcher.py [ARGUMENTS]\n"
     ]
    },
    {
     "name": "stdout",
     "output_type": "stream",
     "text": [
      "               Maquina  Series  Repeticiones Descanso  Peso Persona\n",
      "Dia                                                                \n",
      "1    Prensa de Piernas       3            15  1-2 min    70  Carlos\n"
     ]
    }
   ],
   "source": [
    "import pandas as pd\n",
    "\n",
    "import regex\n",
    "import demoji\n",
    "\n",
    "import numpy as np\n",
    "from collections import Counter\n",
    "\n",
    "import plotly.express as px\n",
    "import matplotlib.pyplot as plt\n",
    "from PIL import Image\n",
    "from wordcloud import WordCloud, STOPWORDS\n",
    "\n",
    "import streamlit as st\n",
    "\n",
    "###################################\n",
    "###################################\n",
    "# Título de la aplicación\n",
    "st.title('Análisis de nuestro progreso en el GYM ❤️')\n",
    "###################################\n",
    "###################################\n",
    "#Leeremos nuestras tablas\n",
    "Progreso = pd.read_csv(\"Libro1.csv\",delimiter=';')\n",
    "Progreso_ind= Progreso.set_index(\"Dia\")\n",
    "print(Progreso_ind)"
   ]
  },
  {
   "cell_type": "code",
   "execution_count": 2,
   "metadata": {},
   "outputs": [],
   "source": [
    "#Registro de datos.\n",
    "# Crear un botón para registrar los datos\n",
    "if st.button('Registrar datos'):\n",
    "    # Solicitar información al usuario\n",
    "    Dia = st.text_input('Ingresa el Dia:')\n",
    "    st.write('Hoy es tu dia,', Dia, '!')\n",
    "    st.write('Tu nombre es:', Persona)\n",
    "    Persona = st.multiselect('Su nombre:', ('Carlos', 'Cinthia'))\n",
    "    st.write('Tu nombre es:', Persona)\n",
    "    Maquina = st.selectbox('Selecciona una opción:', ('Prensa de Piernas', 'Multipowers', 'Máquina de Extensión de Cuádriceps', 'Máquina de Femorales', 'Máquina de Aductores', 'Máquina de Abductores'))\n",
    "    st.write('Seleccionaste:', Maquina)\n",
    "    Peso = st.slider('Selecciona el peso:', 0, 100, 30)\n",
    "    st.write('Cargaste', Peso, 'Kg')\n",
    "    Descanso = st.selectbox('Selecciona una opción:', ('1-2', '2-3', '3-4'))\n",
    "    st.write('Seleccionaste:', Descanso, 'min')\n",
    "    Series = st.slider('Selecciona las repeticiones:', 0, 100, 30)\n",
    "    st.write('Hiciste', Series)\n",
    "    Repeticiones = st.slider('Selecciona las repeticiones:', 0, 100, 30)\n",
    "    st.write('Hiciste', Repeticiones)\n",
    "\n",
    "    # Crear un nuevo registro\n",
    "    Progreso_new = {'Persona': Persona, 'Maquina': Maquina, 'Series': Series, 'Repeticiones': Repeticiones, 'Descanso': Descanso, 'Peso': Peso, 'Dia':Dia}\n",
    "\n",
    "    # Concatenar con el DataFrame existente (Progreso_ind)\n",
    "    Progreso_ind = pd.concat([Progreso_ind, pd.DataFrame([Progreso_new])], ignore_index=True)\n",
    "    Progreso.to_csv('Libro1.csv')\n",
    "    Progreso = pd.read_csv(\"Libro1.csv\",delimiter=';')\n",
    "    Progreso_ind= Progreso.set_index(\"Dia\") \n",
    "\n",
    "\n",
    "# Mostrar el DataFrame resultante\n",
    "st.write('Registro de progreso:')\n",
    "st.write(Progreso_ind)\n",
    "\n"
   ]
  },
  {
   "cell_type": "code",
   "execution_count": 3,
   "metadata": {},
   "outputs": [
    {
     "name": "stdout",
     "output_type": "stream",
     "text": [
      "               Maquina  Series  Repeticiones Descanso  Peso Persona\n",
      "Dia                                                                \n",
      "1    Prensa de Piernas       3            15  1-2 min    70  Carlos\n"
     ]
    }
   ],
   "source": [
    "print(Progreso_ind)"
   ]
  }
 ],
 "metadata": {
  "kernelspec": {
   "display_name": "Python 3",
   "language": "python",
   "name": "python3"
  },
  "language_info": {
   "codemirror_mode": {
    "name": "ipython",
    "version": 3
   },
   "file_extension": ".py",
   "mimetype": "text/x-python",
   "name": "python",
   "nbconvert_exporter": "python",
   "pygments_lexer": "ipython3",
   "version": "3.10.13"
  }
 },
 "nbformat": 4,
 "nbformat_minor": 2
}
