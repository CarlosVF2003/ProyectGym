{
 "cells": [
  {
   "cell_type": "code",
   "execution_count": 4,
   "metadata": {},
   "outputs": [],
   "source": [
    "import pandas as pd\n",
    "import numpy as np\n",
    "import plotly.express as px\n",
    "import matplotlib.pyplot as plt\n",
    "from PIL import Image\n",
    "from wordcloud import WordCloud, STOPWORDS\n",
    "import streamlit as st\n",
    "\n",
    "# Título de la aplicación\n",
    "st.title('Análisis de nuestro progreso en el GYM ❤️')"
   ]
  },
  {
   "cell_type": "code",
   "execution_count": null,
   "metadata": {},
   "outputs": [],
   "source": [
    "# Intentar leer el archivo CSV y si no existe, inicializar un DataFrame vacío\n",
    "try:\n",
    "    Progreso_ind = pd.read_csv(\"Libro1.csv\", delimiter=';')\n",
    "except FileNotFoundError:\n",
    "    Progreso_ind = pd.DataFrame()\n",
    "\n",
    "# Guardar el DataFrame en el estado de la sesión solo si está vacío\n",
    "if 'Progreso_ind' not in st.session_state:\n",
    "    st.session_state['Progreso_ind'] = Progreso_ind\n",
    "\n",
    "# Registro de datos.\n",
    "with st.form(key='mi_formulario'):\n",
    "    # Widgets de entrada\n",
    "    Dia = st.text_input('Ingresa el Dia:')\n",
    "    Persona = st.selectbox('Su nombre:', ('Carlos', 'Cinthia'))\n",
    "    Maquina = st.selectbox('Selecciona una maquina:', ('Prensa de Piernas', 'Multipowers', 'Máquina de Extensión de Cuádriceps', 'Máquina de Femorales', 'Máquina de Aductores', 'Máquina de Abductores'))\n",
    "    Peso = st.slider('Selecciona el peso:', 0, 100, 40)\n",
    "    Descanso = st.selectbox('Selecciona la cantidad de tiempo:', ('1-2 min', '2-3 min', '3-4 min'))\n",
    "    Series = st.slider('Selecciona la cantidad de series:', 0, 4, 3)\n",
    "    Repeticiones = st.slider('Selecciona las repeticiones:', 0, 30, 15)\n",
    "    # Botón de envío del formulario\n",
    "    submit_button = st.form_submit_button(label='Guardar')\n",
    "\n",
    "# Procesar la información una vez que se envía el formulario\n",
    "if submit_button:\n",
    "    Progreso_new = {'Dia': Dia, 'Persona': Persona, 'Maquina': Maquina, 'Peso': Peso, 'Descanso': Descanso, 'Series': Series, 'Repeticiones': Repeticiones}\n",
    "    \n",
    "    # Añadir los nuevos datos al DataFrame en el estado de la sesión\n",
    "    st.session_state['Progreso_ind'] = pd.concat([st.session_state['Progreso_ind'], pd.DataFrame([Progreso_new])], ignore_index=False)\n",
    "    \n",
    "    # Guardar el DataFrame actualizado en un archivo CSV\n",
    "    st.session_state['Progreso_ind'].reset_index(drop=True).to_csv('Libro1.csv', index=False, sep=';')\n",
    "    \n",
    "    # Mensaje de éxito\n",
    "    st.success('¡Datos registrados con éxito!')\n",
    "\n",
    "# Para depurar o verificar, puedes mostrar el DataFrame actualizado\n",
    "#st.write(st.session_state['Progreso_ind'])"
   ]
  }
 ],
 "metadata": {
  "kernelspec": {
   "display_name": "Python 3",
   "language": "python",
   "name": "python3"
  },
  "language_info": {
   "codemirror_mode": {
    "name": "ipython",
    "version": 3
   },
   "file_extension": ".py",
   "mimetype": "text/x-python",
   "name": "python",
   "nbconvert_exporter": "python",
   "pygments_lexer": "ipython3",
   "version": "3.10.13"
  }
 },
 "nbformat": 4,
 "nbformat_minor": 2
}
